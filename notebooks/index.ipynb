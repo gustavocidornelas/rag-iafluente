{
 "cells": [
  {
   "cell_type": "markdown",
   "id": "481539f0-be2e-43e5-9a07-d1377b893add",
   "metadata": {},
   "source": [
    "[![Open In Colab](https://colab.research.google.com/assets/colab-badge.svg)](https://colab.research.google.com/github/gustavocidornelas/rag-iafluente/blob/main/notebooks/index.ipynb)\n",
    "\n",
    "# Indexação\n",
    "\n",
    "Este notebook ilustra o processo de indexação, isto é, da criação de um banco de dados de vetores. Para isso, vamos baixar o arquivo `iafluente.txt`, disponível [aqui](https://raw.githubusercontent.com/gustavocidornelas/rag-iafluente/refs/heads/main/data/iafluente.txt), que contém os posts do [`iafluente`](https://iafluente.com/) em um único arquivo `txt`. Depois, vamos utilizar o `chromadb` para criar uma base de dados de vetores que será utilizada pelo nosso sistema RAG.\n",
    "\n",
    "Este notebook faz parte do tutorial de [RAG](https://iafluente.com/tutoriais/rag), do [`iafluente`](https://iafluente.com/)."
   ]
  },
  {
   "cell_type": "markdown",
   "id": "1955b5d0-6f39-4f41-a0ca-8d2218dd39a2",
   "metadata": {},
   "source": [
    "## Download dos dados\n",
    "\n",
    "Primeiro, vamos baixar os dados, caso eles ainda não existam no seu ambiente:"
   ]
  },
  {
   "cell_type": "code",
   "execution_count": null,
   "id": "eba83eb2-928e-481a-9699-e64a424d3bd9",
   "metadata": {},
   "outputs": [],
   "source": [
    "%%bash\n",
    "if [ ! -f \"../data/iafluente.txt\" ]; then\n",
    "    mkdir \"../data\"\n",
    "    curl -L -o \"../data/iafluente.txt\" \"https://raw.githubusercontent.com/gustavocidornelas/rag-iafluente/refs/heads/main/data/iafluente.txt\"\n",
    "fi"
   ]
  },
  {
   "cell_type": "code",
   "execution_count": null,
   "id": "f8fe9e70",
   "metadata": {},
   "outputs": [],
   "source": [
    "with open(\"../data/iafluente.txt\", \"r\") as file:\n",
    "    data = file.read()"
   ]
  },
  {
   "cell_type": "code",
   "execution_count": null,
   "id": "4cd9805f-959d-47b5-89ed-2312327ee248",
   "metadata": {},
   "outputs": [],
   "source": [
    "# Cada post está separado por \"%%%\", então para obter uma lista de posts, basta:\n",
    "posts = data.split(\"%%%\")"
   ]
  },
  {
   "cell_type": "code",
   "execution_count": null,
   "id": "7e02d92e-7cd0-481b-b4e5-3936fad41ff2",
   "metadata": {},
   "outputs": [],
   "source": [
    "# Conferindo os primeiros 500 caracteres do primeiro post\n",
    "posts[0][:500]"
   ]
  },
  {
   "cell_type": "code",
   "execution_count": null,
   "id": "34c1c054",
   "metadata": {},
   "outputs": [],
   "source": [
    "# Conferindo o número de posts disponíveis\n",
    "len(posts)"
   ]
  },
  {
   "cell_type": "markdown",
   "id": "13f3bff9",
   "metadata": {},
   "source": [
    "## Criação do banco de dados de vetores\n",
    "\n",
    "Agora, vamos criar a nossa base de dados de vetores usando `chromadb`."
   ]
  },
  {
   "cell_type": "code",
   "execution_count": null,
   "id": "555ae61c",
   "metadata": {},
   "outputs": [],
   "source": [
    "# Instala o chromadb\n",
    "!pip install chromadb"
   ]
  },
  {
   "cell_type": "code",
   "execution_count": null,
   "id": "76e8ae10-b8a3-41e8-9ff4-e131eaa8091e",
   "metadata": {},
   "outputs": [],
   "source": [
    "import chromadb"
   ]
  },
  {
   "cell_type": "code",
   "execution_count": null,
   "id": "09dc60b3-cb82-45f8-bbb2-6b55378cd24e",
   "metadata": {},
   "outputs": [],
   "source": [
    "# Vamos salvar o banco de dados de vetores em '../app/model/context'\n",
    "client = chromadb.PersistentClient(path=\"../app/model/context\")"
   ]
  },
  {
   "cell_type": "code",
   "execution_count": null,
   "id": "5b54b51b-4da8-4021-8352-4d62e316c984",
   "metadata": {},
   "outputs": [],
   "source": [
    "collection = client.get_or_create_collection(name=\"context\")"
   ]
  },
  {
   "cell_type": "code",
   "execution_count": null,
   "id": "08fccf7c-d4d2-4310-be2b-75a50661ee1a",
   "metadata": {},
   "outputs": [],
   "source": [
    "# Adicionando os posts ao banco de dados\n",
    "collection.add(\n",
    "    documents=posts,\n",
    "    ids=[str(i) for i in range(len(posts))]\n",
    ")\n"
   ]
  },
  {
   "cell_type": "markdown",
   "id": "d5229c4d",
   "metadata": {},
   "source": [
    "Agora, o banco de vetores já foi criado. Podemos começar a consultar o banco de vetores com perguntas, para ver se os posts retornados fazem sentido."
   ]
  },
  {
   "cell_type": "code",
   "execution_count": null,
   "id": "4e173784-ad1d-4d8e-8a70-c0303569e984",
   "metadata": {},
   "outputs": [],
   "source": [
    "collection.query(\n",
    "    query_texts=[\"Como posso utilizar computação distribuída para disponibilizar meus modelos de ML?\"], # Essa pergunta vai ser embedded e comparada com os embeddings dos posts\n",
    "n_results=1 # Quantos resultados queremos. No caso, só queremos o mais similar\n",
    ")"
   ]
  },
  {
   "cell_type": "code",
   "execution_count": null,
   "id": "0c4b2954-55cc-40f8-8235-724260a1078f",
   "metadata": {},
   "outputs": [],
   "source": [
    "collection.query(\n",
    "    query_texts=[\"Qual é a analogia feita no iafluente entre código e construção civil?\"],\n",
    "n_results=1\n",
    ")"
   ]
  },
  {
   "cell_type": "code",
   "execution_count": null,
   "id": "4df1b1d7-5e51-4e0b-9dec-cc538607380b",
   "metadata": {},
   "outputs": [],
   "source": []
  }
 ],
 "metadata": {
  "kernelspec": {
   "display_name": "Python 3 (ipykernel)",
   "language": "python",
   "name": "python3"
  },
  "language_info": {
   "codemirror_mode": {
    "name": "ipython",
    "version": 3
   },
   "file_extension": ".py",
   "mimetype": "text/x-python",
   "name": "python",
   "nbconvert_exporter": "python",
   "pygments_lexer": "ipython3",
   "version": "3.9.18"
  }
 },
 "nbformat": 4,
 "nbformat_minor": 5
}
